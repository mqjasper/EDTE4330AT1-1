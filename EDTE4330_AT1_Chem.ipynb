{
  "cells": [
    {
      "cell_type": "markdown",
      "metadata": {
        "id": "view-in-github",
        "colab_type": "text"
      },
      "source": [
        "<a href=\"https://colab.research.google.com/github/mqjasper/EDTE4330AT1-1/blob/main/EDTE4330_AT1_Chem.ipynb\" target=\"_parent\"><img src=\"https://colab.research.google.com/assets/colab-badge.svg\" alt=\"Open In Colab\"/></a>"
      ]
    },
    {
      "cell_type": "markdown",
      "id": "604baa65",
      "metadata": {
        "id": "604baa65"
      },
      "source": [
        "# Soaps, detergents, and polar molecules in Organic Chemistry\n",
        "\n",
        "[![Open In Colab](https://colab.research.google.com/assets/colab-badge.svg)](https://drive.google.com/file/d/1dcR8WHEtSOzaluLEjELKwtUrT45fY_k9/view?usp=sharing)\n",
        "\n",
        "This notebook is based on the excellent [Kaggle tutorial](https://www.kaggle.com/vladislavkisin/tutorial-ml-in-chemistry-research-rdkit-mol2vec) from [Vlad Kisin](https://www.kaggle.com/vladislavkisin). In this example, you'll learn how to read a Chemistry datafile and create predictive models of [lipophilicity](https://en.wikipedia.org/wiki/Partition_coefficient#Partition_coefficient_and_log_P).\n",
        "\n",
        "Lipophilicity is the ability of a chemical compound to dissolve in non-polar (fatty or oily) solvents. In simple terms, if you had a glass of oil and water (which will separate with one on top of the other as in the figure below), then lipophilicity is the proportion of how much a chemical dissovles in the water portion versus the oil portion. In the figure below there are 3 molecules in water to every 1 molecule in oil. P is 3 and the log P is $\\log_{10}{3} = 0.477$.\n",
        "\n",
        "Lipophilicity contributes to the absorption, distribution, metabolism, excretion, and toxicity of a pharmaceutical and contributes to a drug's potency and selectivity.\n",
        "\n",
        "![Figure1](https://github.com/tonyreina/chemistry/blob/main/logP.png?raw=1)\n",
        "\n",
        "I'll demonstrate how to load the raw data from a CSV file and use the [RD-Kit](https://github.com/rdkit/rdkit) and [Mol2Vec](https://pubs.acs.org/doi/10.1021/acs.jcim.7b00616) packages to create features based on the chemical formula of a molecule."
      ]
    },
    {
      "cell_type": "markdown",
      "id": "e056e1f0",
      "metadata": {
        "id": "e056e1f0"
      },
      "source": [
        "# Install & import necessary libraries"
      ]
    },
    {
      "cell_type": "code",
      "source": [
        "%pip install seaborn\n",
        "%pip install pandas\n",
        "%pip install matplotlib\n",
        "%pip install git+https://github.com/samoturk/mol2vec\n",
        "!wget https://raw.githubusercontent.com/tonyreina/mol2vec/master/mol2vec/features.py -O /usr/local/lib/python3.10/dist-packages/mol2vec/features.py\n",
        "%pip install scikit-learn\n",
        "%pip install py3Dmol\n",
        "%pip install rdkit-pypi"
      ],
      "metadata": {
        "id": "kfbpvjmWyyer"
      },
      "id": "kfbpvjmWyyer",
      "execution_count": null,
      "outputs": []
    },
    {
      "cell_type": "markdown",
      "id": "7bdffb0d",
      "metadata": {
        "id": "7bdffb0d"
      },
      "source": [
        "## Import installed libraries\n",
        "Now that we have all the necessary libraries installed we need to tell python to use them"
      ]
    },
    {
      "cell_type": "code",
      "execution_count": null,
      "id": "15db48b8",
      "metadata": {
        "id": "15db48b8"
      },
      "outputs": [],
      "source": [
        "%matplotlib inline\n",
        "\n",
        "import numpy as np                #!pip install numpy\n",
        "import pandas as pd               #!pip install pandas\n",
        "import matplotlib.pyplot as plt   #!pip install matplotlib\n",
        "import seaborn as sns             #!pip install seaborn"
      ]
    },
    {
      "cell_type": "markdown",
      "id": "2891707a",
      "metadata": {
        "id": "2891707a"
      },
      "source": [
        "## Load SMILES structures from a file\n",
        "\n",
        "I have uploaded a small file with a selection of relevant molecules that will be used at some point during the lab. This will be imported to the session and loaded for later use. Below is an explanation of how the data is provided using a molecular structuring system known as SMILES:\n",
        "\n",
        "[SMILES](https://en.wikipedia.org/wiki/Simplified_molecular-input_line-entry_system) stands for the **S**implified **M**olecular **I**nput **L**ine **E**ntry **S**ystem which is a method for describing the structure of chemical species using short ASCII strings. Essentially it's a short-hand notation for describing a molecule including information about which atoms are connected together, the types of chemical bonds, and the 2D structure. In SMILES notation, 'C' represents a carbon atom, 'N' represents a nitrogen atom, 'Cl' represents a Chlorine atom, and '=' indicates a double bond between the adjacent atoms. For example, in the figure below the SMILES notation for the top/left molecule is **Cl\n",
        "ClC\\[C@H\\](\\[C@@H\\](C)Cl)Cl**.\n",
        "\n",
        "A good resource for learning about SMILES notation is:\n",
        "\n",
        "Quirós, M., Gražulis, S., Girdzijauskaitė, S. et al. Using SMILES strings for the description of chemical connectivity in the Crystallography Open Database. J Cheminform 10, 23 (2018). https://doi.org/10.1186/s13321-018-0279-6"
      ]
    },
    {
      "cell_type": "markdown",
      "source": [
        "\n",
        "\n",
        "---\n",
        "\n"
      ],
      "metadata": {
        "id": "WZvNpbfWELB1"
      },
      "id": "WZvNpbfWELB1"
    },
    {
      "cell_type": "markdown",
      "source": [
        "#**IMPORTANT: INCLUDE CSV UPLOAD SPACE FOR STUDENTS TO CREATE THEIR OWN TABLE RATHER THAN USE PROVIDED STRUCTURES**"
      ],
      "metadata": {
        "id": "xv1EETOnEGVf"
      },
      "id": "xv1EETOnEGVf"
    },
    {
      "cell_type": "code",
      "execution_count": null,
      "id": "a85d557b",
      "metadata": {
        "id": "a85d557b"
      },
      "outputs": [],
      "source": [
        "df = pd.read_csv('https://raw.githubusercontent.com/mqjasper/EDTE4330AT1-1/main/structures.csv', names=['SMILES', 'Name']) #load the CSV file\n",
        "df.head()  # Display a few rows"
      ]
    },
    {
      "cell_type": "markdown",
      "id": "38d414e7",
      "metadata": {
        "id": "38d414e7"
      },
      "source": [
        "## What is the goal for this lab?\n",
        "\n",
        "We'd like to take **SMILES** structures, interpret it in 2D and 3D space, manipulate and analyse these structures."
      ]
    },
    {
      "cell_type": "markdown",
      "id": "e7eae45a",
      "metadata": {
        "id": "e7eae45a"
      },
      "source": [
        "## RD-Kit\n",
        "[RD-Kit](https://github.com/rdkit/rdkit) is an open-source (BSD-3) Python package for data scientists to work with Chemistry data. It has some excellent modules that allow us to preprocess data from chemistry experiments. We installed this library in the first code block.\n",
        "\n",
        "With RD-Kit we can transform the SMILES notation into a more useful Python object called a *Mol* (for molecule). Mol objects contain the atoms, bonds, connectivity and coordinates of a molecule. It adds important 3D information, such as the distance between atoms, that may be useful to our model. We can use *Mol* objects to craft features of the chemical to provide as inputs to our model."
      ]
    },
    {
      "cell_type": "code",
      "execution_count": null,
      "id": "ff308042",
      "metadata": {
        "id": "ff308042"
      },
      "outputs": [],
      "source": [
        "#Importing Chem module\n",
        "from rdkit import Chem\n",
        "\n",
        "#Method transforms smiles strings to mol rdkit object\n",
        "df['mol'] = df['SMILES'].apply(lambda x: Chem.MolFromSmiles(x))\n",
        "\n",
        "df.head()"
      ]
    },
    {
      "cell_type": "markdown",
      "id": "85a61a48",
      "metadata": {
        "id": "85a61a48"
      },
      "source": [
        "## Plot some chemical structures\n",
        "\n",
        "Once we have our molecules as *Mol* Python objects, then RD-Kit allows us to plot the chemical structures easily."
      ]
    },
    {
      "cell_type": "code",
      "execution_count": null,
      "id": "b6080e2f",
      "metadata": {
        "id": "b6080e2f"
      },
      "outputs": [],
      "source": [
        "from rdkit.Chem import Draw\n",
        "\n",
        "number_to_print = 20\n",
        "mols = df['mol'][:number_to_print]\n",
        "\n",
        "# AddHs function adds H atoms to a MOL (as Hs in SMILES are usualy ignored)\n",
        "df['mol'] = df['mol'].apply(lambda x: Chem.AddHs(x))\n",
        "\n",
        "#MolsToGridImage allows to show several molecules in a grid\n",
        "Draw.MolsToGridImage(mols, molsPerRow=5, useSVG=True, legends=list(df['SMILES'][:number_to_print].values))"
      ]
    },
    {
      "cell_type": "markdown",
      "id": "f1c768e6",
      "metadata": {
        "id": "f1c768e6"
      },
      "source": [
        "## View it in 3D\n",
        "There's a nice Python package called [py3Dmol](https://3dmol.csb.pitt.edu/) which creates 3D images from the *Mol* object. This is not necessary, but it does create pretty pictures of our molecules that can be rotated and zoomed."
      ]
    },
    {
      "cell_type": "code",
      "execution_count": null,
      "id": "1ac479bb",
      "metadata": {
        "scrolled": false,
        "id": "1ac479bb"
      },
      "outputs": [],
      "source": [
        "import py3Dmol  # pip install py3Dmol\n",
        "from ipywidgets import interact,fixed,IntSlider\n",
        "import ipywidgets\n",
        "\n",
        "def show3D_molecule(idx, style):\n",
        "    \"\"\"\n",
        "    Show molecule in 3D\n",
        "    \"\"\"\n",
        "    mblock = Chem.MolToMolBlock(df['mol'].iloc[idx])\n",
        "    viewer = py3Dmol.view(width=300, height=300)\n",
        "    viewer.addModel(mblock, 'mol')\n",
        "    viewer.setStyle({style:{}})\n",
        "    viewer.rotate(45, \"y\", animationDuration=1)\n",
        "\n",
        "    viewer.zoomTo()\n",
        "\n",
        "    print(f\"SMILES notation: {df['SMILES'].iloc[idx]}\\nRotate me!\");\n",
        "\n",
        "    return viewer.show()\n",
        "\n",
        "interact(show3D_molecule,\n",
        "         idx=ipywidgets.IntSlider(min=0,max=len(df[\"mol\"])-1,\n",
        "                                  step=1, value=3064,\n",
        "                                  description=\"Molecule\"),\n",
        "         style=ipywidgets.Dropdown(options=['line', 'stick', 'sphere'],\n",
        "                                   value='stick',\n",
        "                                   description='Style:'));"
      ]
    },
    {
      "cell_type": "markdown",
      "id": "b56d0f9e",
      "metadata": {
        "id": "b56d0f9e"
      },
      "source": [
        "## Use RD-Kit to create features for the model\n",
        "\n",
        "Now that we have the molecule in *Mol* format, we can use RD-Kit's built in functions to create new features for our model. For example, we can add columns for the number of total atoms in the molecule and the number **Chloride (Cl)** atoms in the molecule. These features might be important in predicting **logP**."
      ]
    },
    {
      "cell_type": "markdown",
      "id": "9b063040",
      "metadata": {
        "id": "9b063040"
      },
      "source": [
        "Note: The first function we use is `Chem.AddHs`. Typically, the SMILES format does not explicitly show the **Hydrogen atoms (H)**. They are implied. It actually helps us a bit in our model accuracy to specifically add these back. (Try commenting out the next line to see its effect on model performance.)"
      ]
    },
    {
      "cell_type": "code",
      "execution_count": null,
      "id": "37187a8e",
      "metadata": {
        "id": "37187a8e"
      },
      "outputs": [],
      "source": [
        "# AddHs function adds H atoms to a MOL (as Hs in SMILES are usualy ignored)\n",
        "df['mol'] = df['mol'].apply(lambda x: Chem.AddHs(x))"
      ]
    },
    {
      "cell_type": "markdown",
      "id": "6fd351df",
      "metadata": {
        "id": "6fd351df"
      },
      "source": [
        "## Additional features\n",
        "\n",
        "Let's add some other features such as the number of atoms in the molecule and the number of \"heavy\" atoms in the molecule. These might be important in determining the logP value. Look through the [RD-Kit documentation](https://www.rdkit.org/docs/source/rdkit.Chem.Lipinski.html) to add more features if you'd like to get a better model."
      ]
    },
    {
      "cell_type": "code",
      "execution_count": null,
      "id": "4fa3fc00",
      "metadata": {
        "id": "4fa3fc00"
      },
      "outputs": [],
      "source": [
        "# GetNumAtoms() method returns a general nubmer of all atoms in a molecule\n",
        "df['num_of_atoms'] = df['mol'].apply(lambda x: x.GetNumAtoms())\n",
        "\n",
        "# GetNumHeavyAtoms() method returns a nubmer of all atoms in a molecule with molecular weight > 1\n",
        "df['num_of_heavy_atoms'] = df['mol'].apply(lambda x: x.GetNumHeavyAtoms())"
      ]
    },
    {
      "cell_type": "code",
      "execution_count": null,
      "id": "e8712883",
      "metadata": {
        "id": "e8712883"
      },
      "outputs": [],
      "source": [
        "#We're going to searches patterns and use it for a list of most common atoms only\n",
        "def number_of_atoms(atom_list, df):\n",
        "    for i in atom_list:\n",
        "        df['num_of_{}_atoms'.format(i)] = df['mol'].apply(lambda x: len(x.GetSubstructMatches(Chem.MolFromSmiles(i))))\n",
        "\n",
        "number_of_atoms(['C', 'O', 'N', 'Cl', 'P', 'Br', 'F'], df)"
      ]
    },
    {
      "cell_type": "code",
      "execution_count": null,
      "id": "1a5393aa",
      "metadata": {
        "id": "1a5393aa"
      },
      "outputs": [],
      "source": [
        "from rdkit.Chem import Descriptors\n",
        "df['tpsa'] = df['mol'].apply(lambda x: Descriptors.TPSA(x)) #https://en.wikipedia.org/wiki/Polar_surface_area\n",
        "df['mol_w'] = df['mol'].apply(lambda x: Descriptors.ExactMolWt(x)) # https://en.wikipedia.org/wiki/Molecular_mass\n",
        "df['num_valence_electrons'] = df['mol'].apply(lambda x: Descriptors.NumValenceElectrons(x)) # https://en.wikipedia.org/wiki/Valence_electron\n",
        "df['num_heteroatoms'] = df['mol'].apply(lambda x: Descriptors.NumHeteroatoms(x))"
      ]
    },
    {
      "cell_type": "code",
      "execution_count": null,
      "id": "31190607",
      "metadata": {
        "id": "31190607"
      },
      "outputs": [],
      "source": [
        "df.head()"
      ]
    }
  ],
  "metadata": {
    "kernelspec": {
      "display_name": "Python 3",
      "language": "python",
      "name": "python3"
    },
    "language_info": {
      "codemirror_mode": {
        "name": "ipython",
        "version": 3
      },
      "file_extension": ".py",
      "mimetype": "text/x-python",
      "name": "python",
      "nbconvert_exporter": "python",
      "pygments_lexer": "ipython3",
      "version": "3.8.10"
    },
    "colab": {
      "provenance": [],
      "collapsed_sections": [
        "85a61a48",
        "f1c768e6",
        "b56d0f9e",
        "6fd351df",
        "0f94a0da",
        "f2bd23f7",
        "c9a44b87",
        "c3d5da69"
      ],
      "include_colab_link": true
    }
  },
  "nbformat": 4,
  "nbformat_minor": 5
}